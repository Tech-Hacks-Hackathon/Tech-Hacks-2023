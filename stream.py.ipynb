{
 "cells": [
  {
   "cell_type": "code",
   "execution_count": null,
   "id": "4134a1e8",
   "metadata": {},
   "outputs": [],
   "source": [
    "import streamlit as st\n",
    "import numpy as np\n",
    "from tensorflow.keras.models import load_model\n",
    "import librosa\n",
    "import queue\n",
    "import sounddevice as sd\n",
    "\n",
    "# Load the pre-trained model\n",
    "model = load_model('')\n",
    "\n",
    "# Streamlit app\n",
    "st.title('Real-time Sound Classification for Conservation')\n",
    "\n",
    "# Create a queue to store incoming sound data\n",
    "sound_queue = queue.Queue(maxsize=44100)  # Queue size for one second of audio at 44.1 kHz\n",
    "\n",
    "# Function to process audio stream\n",
    "def callback(indata, frames, time, status):\n",
    "    if status:\n",
    "        print(status, flush=True)\n",
    "    sound_queue.put(indata.copy())\n",
    "\n",
    "# Open a streaming audio input\n",
    "with sd.InputStream(callback=callback):\n",
    "    while True:\n",
    "        # Read sound data from the queue\n",
    "        sound_data = sound_queue.get()\n",
    "\n",
    "        # Display the streaming audio\n",
    "        st.audio(sound_data, format='audio/wav', start_time=0)\n",
    "\n",
    "        # Process the sound data for classification\n",
    "        sound_features = extract_features(sound_data)\n",
    "\n",
    "        # Make a prediction\n",
    "        prediction = model.predict_classes(np.expand_dims(sound_features, axis=0))[0]\n",
    "\n",
    "        # Reverse the label encoding\n",
    "        predicted_class = label_encoder.inverse_transform([prediction])[0]\n",
    "\n",
    "        # Display the result\n",
    "        st.write(f'Prediction: {predicted_class}')"
   ]
  }
 ],
 "metadata": {
  "kernelspec": {
   "display_name": "Python 3 (ipykernel)",
   "language": "python",
   "name": "python3"
  },
  "language_info": {
   "codemirror_mode": {
    "name": "ipython",
    "version": 3
   },
   "file_extension": ".py",
   "mimetype": "text/x-python",
   "name": "python",
   "nbconvert_exporter": "python",
   "pygments_lexer": "ipython3",
   "version": "3.11.5"
  }
 },
 "nbformat": 4,
 "nbformat_minor": 5
}
